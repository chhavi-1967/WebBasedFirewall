{
 "cells": [
  {
   "cell_type": "code",
   "execution_count": 20,
   "id": "8a905ce4",
   "metadata": {},
   "outputs": [],
   "source": [
    "import pandas as pd\n",
    "import re\n",
    "import pickle\n",
    "from sklearn.linear_model import LogisticRegression\n",
    "from sklearn.model_selection import train_test_split\n",
    "\n",
    "# Load the dataset\n",
    "http = pd.read_csv(\"All_data.csv\")"
   ]
  },
  {
   "cell_type": "code",
   "execution_count": 21,
   "id": "1c5dfedb",
   "metadata": {
    "scrolled": true
   },
   "outputs": [],
   "source": [
    "# Feature extraction function (12 features)\n",
    "def ExtractFeatures(path, body):\n",
    "    features = []\n",
    "    combined = (str(path) + \" \" + str(body)).lower()\n",
    "\n",
    "    patterns = [\n",
    "        r\"<script>\", r\"select.+from\", r\"drop\\s+table\", r\"union\\s+select\",\n",
    "        r\"insert\\s+into\", r\"or\\s+1=1\", r\"\\.\\./\", r\"alert\\s*\\(\", r\"--\", r\"'\",\n",
    "        r'\"', r\"\\b(admin|root|passwd|password)\\b\"\n",
    "    ]\n",
    "\n",
    "    for pattern in patterns:\n",
    "        match = re.search(pattern, combined)\n",
    "        features.append(1 if match else 0)\n",
    "\n",
    "    return features"
   ]
  },
  {
   "cell_type": "code",
   "execution_count": 22,
   "id": "962b2c03-d63e-4e34-ad9f-16fc82b40610",
   "metadata": {},
   "outputs": [],
   "source": [
    "# Apply feature extraction\n",
    "features = http.apply(lambda row: ExtractFeatures(row['path'], row['body']), axis=1)\n",
    "X = pd.DataFrame(features.tolist())  # Converts list of lists into a DataFrame\n",
    "y = http['class']\n",
    "\n",
    "# Split data\n",
    "X_train, X_test, y_train, y_test = train_test_split(X, y, test_size=0.2, random_state=42)"
   ]
  },
  {
   "cell_type": "code",
   "execution_count": 23,
   "id": "d07922af",
   "metadata": {},
   "outputs": [
    {
     "name": "stdout",
     "output_type": "stream",
     "text": [
      "✅ Model trained and saved using 12 features.\n"
     ]
    }
   ],
   "source": [
    "# Train model\n",
    "model = LogisticRegression()\n",
    "model.fit(X_train, y_train)\n",
    "\n",
    "# Save model\n",
    "with open('waf_model.pkl', 'wb') as f:\n",
    "    pickle.dump(model, f)\n",
    "\n",
    "print(\"✅ Model trained and saved using 12 features.\")"
   ]
  }
 ],
 "metadata": {
  "kernelspec": {
   "display_name": "Python 3 (ipykernel)",
   "language": "python",
   "name": "python3"
  },
  "language_info": {
   "codemirror_mode": {
    "name": "ipython",
    "version": 3
   },
   "file_extension": ".py",
   "mimetype": "text/x-python",
   "name": "python",
   "nbconvert_exporter": "python",
   "pygments_lexer": "ipython3",
   "version": "3.9.7"
  }
 },
 "nbformat": 4,
 "nbformat_minor": 5
}
